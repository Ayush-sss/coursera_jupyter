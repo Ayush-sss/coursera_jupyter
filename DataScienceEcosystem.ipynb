{
  "nbformat": 4,
  "nbformat_minor": 0,
  "metadata": {
    "colab": {
      "provenance": []
    },
    "kernelspec": {
      "name": "python3",
      "display_name": "Python 3"
    },
    "language_info": {
      "name": "python"
    }
  },
  "cells": [
    {
      "cell_type": "markdown",
      "source": [
        "\n",
        "<h1>\n",
        "Data Science Tools and Ecosystem\n",
        "\n",
        "\n"
      ],
      "metadata": {
        "id": "oTQB1eC-Gl-d"
      }
    },
    {
      "cell_type": "markdown",
      "source": [
        "In this notebook, Data Science Tools and Ecosystem are summarized."
      ],
      "metadata": {
        "id": "9HbW7eothTxq"
      }
    },
    {
      "cell_type": "markdown",
      "source": [
        "*Some of the popular languages that Data Scientists use are:*\n",
        "\n",
        "\n",
        "1.   Python\n",
        "2.   R\n",
        "3.   Ruby\n",
        "\n",
        "\n",
        "\n",
        "\n",
        "\n"
      ],
      "metadata": {
        "id": "mNtW2xXbhe69"
      }
    },
    {
      "cell_type": "markdown",
      "source": [
        "*Some of the commonly used libraries used by Data Scientists include:*\n",
        "\n",
        "\n",
        "1.   Rplot\n",
        "2.   Matplotlib\n",
        "3.   Sciket Learn\n",
        "\n"
      ],
      "metadata": {
        "id": "rc-Mb80miAN-"
      }
    },
    {
      "cell_type": "markdown",
      "source": [
        "| Data Science Tools |\n",
        "----------------------\n",
        "|Jupyter Notebook|\n",
        "|Apache Stark |\n",
        "|Tensorflow   |"
      ],
      "metadata": {
        "id": "huxrsvnYiqkP"
      }
    },
    {
      "cell_type": "markdown",
      "source": [
        "### Below are the few examples of evaluating arithmetic expressions in Python"
      ],
      "metadata": {
        "id": "x_ykNo54h2Bn"
      }
    },
    {
      "cell_type": "code",
      "source": [
        "# this is the simple expression to multiply and then add integers\n",
        "(3*4)+5\n"
      ],
      "metadata": {
        "colab": {
          "base_uri": "https://localhost:8080/"
        },
        "id": "LWEWextenXnF",
        "outputId": "0ba6e133-d7e3-48fe-a402-ae1a8c862c23"
      },
      "execution_count": 1,
      "outputs": [
        {
          "output_type": "execute_result",
          "data": {
            "text/plain": [
              "17"
            ]
          },
          "metadata": {},
          "execution_count": 1
        }
      ]
    },
    {
      "cell_type": "code",
      "source": [
        "#this will convert 200 minute to hour by dividing by 60\n",
        "minute=200\n",
        "hour=200/60\n",
        "print(hour)"
      ],
      "metadata": {
        "colab": {
          "base_uri": "https://localhost:8080/"
        },
        "id": "HD4mVHgaoEn0",
        "outputId": "18a9b0ae-f9fd-4c42-af17-ef6da660027a"
      },
      "execution_count": 2,
      "outputs": [
        {
          "output_type": "stream",
          "name": "stdout",
          "text": [
            "3.3333333333333335\n"
          ]
        }
      ]
    },
    {
      "cell_type": "markdown",
      "source": [
        "**Objectives:**\n",
        "\n",
        "* Learnt about Different tools required for data science\n",
        "* How to use jupyter notebook for proper presentation\n",
        "* How R language and its tools helps in data science\n",
        "* Basics of git and github usage"
      ],
      "metadata": {
        "id": "n7ZaiXfHonyq"
      }
    },
    {
      "cell_type": "markdown",
      "source": [
        "## Author:\n",
        "\n",
        "Ayush Sarda"
      ],
      "metadata": {
        "id": "lFM_sP5TqDAh"
      }
    }
  ]
}